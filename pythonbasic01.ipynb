{
  "nbformat": 4,
  "nbformat_minor": 0,
  "metadata": {
    "colab": {
      "name": "pythonbasic01.ipynb",
      "provenance": [],
      "authorship_tag": "ABX9TyMpH9Ex3M6rXNx37J4DWyES",
      "include_colab_link": true
    },
    "kernelspec": {
      "name": "python3",
      "display_name": "Python 3"
    },
    "language_info": {
      "name": "python"
    }
  },
  "cells": [
    {
      "cell_type": "markdown",
      "metadata": {
        "id": "view-in-github",
        "colab_type": "text"
      },
      "source": [
        "<a href=\"https://colab.research.google.com/github/Ryeol93/python202206/blob/main/pythonbasic01.ipynb\" target=\"_parent\"><img src=\"https://colab.research.google.com/assets/colab-badge.svg\" alt=\"Open In Colab\"/></a>"
      ]
    },
    {
      "cell_type": "code",
      "execution_count": null,
      "metadata": {
        "colab": {
          "base_uri": "https://localhost:8080/"
        },
        "id": "LcrCfD2DAAQM",
        "outputId": "ccdfda05-9bbb-4152-f106-ce4b33d0c59e"
      },
      "outputs": [
        {
          "output_type": "stream",
          "name": "stdout",
          "text": [
            "Hello World\n"
          ]
        }
      ],
      "source": [
        "print(\"Hello World\")"
      ]
    },
    {
      "cell_type": "code",
      "source": [
        "# 6 기초 -주석/변수 Comment/Variable\n",
        "\n",
        "# 자바에서의 주석 // /* */ 처럼 파이썬에서는 #을 주석 기호로 사용한다.\n",
        "# \"\"\"   \"\"\" 삼중 따옴표 로 여러줄 주석 처럼 사용한다.-> docstring \n",
        "\n",
        "\"\"\"\n",
        "프로그램 버전 : 0.1\n",
        "프로그램 작성자 : 홍길동 \n",
        "프러그램 작성일 : 2022/05/31\n",
        "\"\"\"\n",
        "\n",
        "# 프로그램 버전 : 0.1\n",
        "# 프로그램 작성자 : 홍길동 \n",
        "# 프러그램 작성일 : 2022/05/31\n",
        "\n",
        "# 구문의 위에 삽입\n",
        "print(\"Hello World\") # 구문의 우측에 삽입\n",
        "# 구문의 하단에 삽입\n",
        "\n",
        "# 주석의 또다른 용법 : 원래 주석의 기본적인 의미는 코드에 대한 설명이지만 \n",
        "#                      주석의 또라른 중여한 용법은 코드의 일부를 일시 정지시키는 용도\n",
        "\n",
        "print(\"Hello\")\n",
        "# print(\"World\") # 코드에 주석을 사용하여 임시로 동작을 하지 않게 만드는 역할\n",
        "print('Python') # 파이썬에서는 ''   \"\"   가 완전히 동일하게 사용된다.\n",
        "\n",
        "print(\"Austin's pie\")  # 기호로써의 ' 를 표시하고 싶을때는 \"\" 를 사용하여 열고 닫는다. \n",
        "print('Austin\\'s pie')"
      ],
      "metadata": {
        "id": "A8L3lNJmATMa",
        "colab": {
          "base_uri": "https://localhost:8080/"
        },
        "outputId": "c92eddda-1de3-4f93-89d4-cf095a547168"
      },
      "execution_count": 13,
      "outputs": [
        {
          "output_type": "stream",
          "name": "stdout",
          "text": [
            "Hello World\n",
            "Hello\n",
            "Python\n",
            "Austin's pie\n",
            "Austin's pie\n"
          ]
        }
      ]
    },
    {
      "cell_type": "code",
      "source": [
        "# 변수\n",
        "\n",
        "# 자바나 씨 등의 언어와는 달리 변수를 선언할때 앞에서 형을 정해주지 않는다.\n",
        "# 선언과 동시에 파이썬이 데이터를 알아서 정수인지 문자열인지 판단을 하여 저장한다.\n",
        "\n",
        "age = 21\n",
        "name = \"홍길동\"\n",
        "\n",
        "type(name)\n",
        "\n",
        "age, name = 21, \"홍길동\"\n",
        "\n",
        "# 변수명 선언 방법\n",
        "\n",
        "#  1.문자 숫자_만 사용\n",
        "#  2.숫자로 시작할수는 없다. A100(0) 100A(x)\n",
        "#  3.예약어는 사용할 수 없다. print, class.....\n",
        "#  4.대소 문자를 구분한다.  a = 100, A = 100 별개의 변수\n",
        "#  5.변수명은 영어로만 만들자 (한글로도 만들수는 있다. )\n",
        "\n",
        "# austinYoonGood camel case\n",
        "# austin_yoon_good snake case"
      ],
      "metadata": {
        "id": "phQnEe7MlGIX"
      },
      "execution_count": 8,
      "outputs": []
    },
    {
      "cell_type": "code",
      "source": [
        "\n",
        "# 다음 중 틀린 것을 고르시오.\n",
        "\n",
        "# 1 a100 = '기획부'\n",
        "# 2 부서명 = '영업부'\n",
        "# 3 _200 = '관리부'\n",
        "# 4 print = '광고부'"
      ],
      "metadata": {
        "id": "PdIUVENYnnyl"
      },
      "execution_count": null,
      "outputs": []
    },
    {
      "cell_type": "code",
      "source": [
        "# 출력 결과를 예상하여 알맞은 결과를 고르시오. 1\n",
        "# a = 100\n",
        "# A = 200\n",
        "# print(a)\n",
        "\n",
        "\n",
        "# 1 100\n",
        "# 2 200\n",
        "# 3 300\n",
        "# 4 None"
      ],
      "metadata": {
        "id": "D00Ad1SInu2l"
      },
      "execution_count": null,
      "outputs": []
    },
    {
      "cell_type": "code",
      "source": [
        "# korea 이라는 변수명에 주식가격인 63000 을 할당하고, \n",
        "# 100 주를 보유하고 있을 때 평가 금액을 계산하시오.\n",
        "\n",
        "korea = 63000\n",
        "total = korea*100\n",
        "print(total) "
      ],
      "metadata": {
        "colab": {
          "base_uri": "https://localhost:8080/"
        },
        "id": "yUapctzDoAA8",
        "outputId": "6d53bbbc-7edd-491f-e7ee-200813d07523"
      },
      "execution_count": 14,
      "outputs": [
        {
          "output_type": "stream",
          "name": "stdout",
          "text": [
            "6300000\n"
          ]
        }
      ]
    },
    {
      "cell_type": "code",
      "source": [
        "# 7 기초 - 기본 자료형 Data Type\n",
        "\n",
        "# 숫자형 \n",
        "\n",
        "a = 3\n",
        "b = 3.14\n",
        "c = -2\n",
        "\n",
        "type(b)"
      ],
      "metadata": {
        "colab": {
          "base_uri": "https://localhost:8080/"
        },
        "id": "wgQzbURitD7Q",
        "outputId": "b46121e6-9300-4ea2-a356-5417a9ec015f"
      },
      "execution_count": 15,
      "outputs": [
        {
          "output_type": "execute_result",
          "data": {
            "text/plain": [
              "float"
            ]
          },
          "metadata": {},
          "execution_count": 15
        }
      ]
    },
    {
      "cell_type": "code",
      "source": [
        "43 / 4"
      ],
      "metadata": {
        "colab": {
          "base_uri": "https://localhost:8080/"
        },
        "id": "A0HorwlbtlJt",
        "outputId": "0c38d93e-423d-4f23-c268-1dc993ffd153"
      },
      "execution_count": 17,
      "outputs": [
        {
          "output_type": "execute_result",
          "data": {
            "text/plain": [
              "10.75"
            ]
          },
          "metadata": {},
          "execution_count": 17
        }
      ]
    },
    {
      "cell_type": "code",
      "source": [
        "43 // 4 # 몫"
      ],
      "metadata": {
        "colab": {
          "base_uri": "https://localhost:8080/"
        },
        "id": "puGz2Zd5tpcY",
        "outputId": "96a419f8-7798-4825-e7be-e740e21fd73a"
      },
      "execution_count": 18,
      "outputs": [
        {
          "output_type": "execute_result",
          "data": {
            "text/plain": [
              "10"
            ]
          },
          "metadata": {},
          "execution_count": 18
        }
      ]
    },
    {
      "cell_type": "code",
      "source": [
        "43 % 4 \n",
        "# % 나머지 연산자로 홀수/짝수/배수 를 알아낼 수 있다."
      ],
      "metadata": {
        "colab": {
          "base_uri": "https://localhost:8080/"
        },
        "id": "ednqAHcdtq0H",
        "outputId": "47e71c55-6ffc-426f-c284-db10e3ca6c77"
      },
      "execution_count": 20,
      "outputs": [
        {
          "output_type": "execute_result",
          "data": {
            "text/plain": [
              "3"
            ]
          },
          "metadata": {},
          "execution_count": 20
        }
      ]
    },
    {
      "cell_type": "code",
      "source": [
        "# 불형 bool or boolean -> True False    주의 : true flase 와는 다르다.\n",
        "\n",
        "1 == 1"
      ],
      "metadata": {
        "colab": {
          "base_uri": "https://localhost:8080/"
        },
        "id": "ipsCF6H3tsR9",
        "outputId": "a2aedb8a-ba99-4b07-c38d-af363bbf6572"
      },
      "execution_count": 23,
      "outputs": [
        {
          "output_type": "execute_result",
          "data": {
            "text/plain": [
              "True"
            ]
          },
          "metadata": {},
          "execution_count": 23
        }
      ]
    },
    {
      "cell_type": "code",
      "source": [
        "1 != 1"
      ],
      "metadata": {
        "colab": {
          "base_uri": "https://localhost:8080/"
        },
        "id": "4bi_8dqPvBQ5",
        "outputId": "67c10d5a-02f5-4b39-a718-9a888c55adea"
      },
      "execution_count": 25,
      "outputs": [
        {
          "output_type": "execute_result",
          "data": {
            "text/plain": [
              "False"
            ]
          },
          "metadata": {},
          "execution_count": 25
        }
      ]
    },
    {
      "cell_type": "code",
      "source": [
        "from typing import List\n",
        "# 문자열....\n",
        "name1 = \"Austin\" # 파이썬에서는 큰따옴표와\n",
        "name2 = 'austin' # 작은 따옴표 모두 문자열을 나타낸다.\n",
        "age = \"30\"       # 숫자라도 따옴표가 있으면 문자로 처리된다.\n",
        "age = 30         # 숫자는 따옴표가 없다.\n",
        "\n",
        "# 문자열에서는 인덱싱 - 몇 번째 글자 하나 \n",
        "\n",
        "words = \"I love you\" # 어떤 문자열에서 글자하나만 추출 -> v\n",
        "print(words[4])\n",
        "\n",
        "# 파이썬에서의 독특한 인덱싱 방법 , 마지막 한글자만 추출, 뒤부터는 '-1'부터 센다.\n",
        "print(words[-1])\n",
        "\n",
        "# 문자열에서의 슬라이싱 - 글자 여러개\n",
        "words = \"I love you\"\n",
        "words[2:6] #[시작:끝(미만)] [시작:끝(미만):증감] \n",
        "words[2:6:1] # step 은 생략 가능 생략하면 1\n",
        "print(words[:6:1]) # 시작을 생략하면 0부터 시작\n",
        "print(words[:6:1]) # 마지막을 생략하면 끝까지 \n",
        "print(words[::2]) # 하나씩 건너 띄워 인쇄\n",
        "\n",
        "# 문자열에서의 슬라이싱 - 글자 여러개\n",
        "\n",
        "# 문자열에서의 인덱싱과 슬라이싱 기법은 그대로 리스트와 튜플에서도 동일하게 사용된다.\n"
      ],
      "metadata": {
        "colab": {
          "base_uri": "https://localhost:8080/"
        },
        "id": "pECJCLTNvGyo",
        "outputId": "7a13d02e-e64b-449e-f117-abdc27b8c18c"
      },
      "execution_count": 36,
      "outputs": [
        {
          "output_type": "stream",
          "name": "stdout",
          "text": [
            "v\n",
            "u\n",
            "I love\n",
            "I love\n",
            "Ilv o\n"
          ]
        }
      ]
    },
    {
      "cell_type": "code",
      "source": [
        "# \"LOVE\" 문자열을 \"EVOL\" 로 뒤집어 출력하세요\n",
        "\n",
        "word = 'LOVE'\n",
        "word[::-1]"
      ],
      "metadata": {
        "colab": {
          "base_uri": "https://localhost:8080/",
          "height": 36
        },
        "id": "B5JJrmXhvRbL",
        "outputId": "08b16b98-61f1-4b17-f91c-0627b6f57a18"
      },
      "execution_count": 41,
      "outputs": [
        {
          "output_type": "execute_result",
          "data": {
            "text/plain": [
              "'EVOL'"
            ],
            "application/vnd.google.colaboratory.intrinsic+json": {
              "type": "string"
            }
          },
          "metadata": {},
          "execution_count": 41
        }
      ]
    },
    {
      "cell_type": "code",
      "source": [
        "#\"He is good. All the time\" 문자열에서 \"time\"만 추출하세요.\n",
        "word = \"He is good. All the time\"\n",
        "word[-4:]"
      ],
      "metadata": {
        "colab": {
          "base_uri": "https://localhost:8080/",
          "height": 36
        },
        "id": "97nCgs23vSL7",
        "outputId": "4b1d78e8-10da-464e-e28d-a698635d5d9c"
      },
      "execution_count": 53,
      "outputs": [
        {
          "output_type": "execute_result",
          "data": {
            "text/plain": [
              "'time'"
            ],
            "application/vnd.google.colaboratory.intrinsic+json": {
              "type": "string"
            }
          },
          "metadata": {},
          "execution_count": 53
        }
      ]
    },
    {
      "cell_type": "code",
      "source": [
        "# 출력 print\n",
        "\n",
        "word = \"He is good, All the time\"\n",
        "print(word)"
      ],
      "metadata": {
        "colab": {
          "base_uri": "https://localhost:8080/"
        },
        "id": "OAyHK2Y6vSSN",
        "outputId": "c069cd8e-b027-433a-c25e-3bca5eb452ce"
      },
      "execution_count": 55,
      "outputs": [
        {
          "output_type": "stream",
          "name": "stdout",
          "text": [
            "He is good, All the time\n"
          ]
        }
      ]
    },
    {
      "cell_type": "code",
      "source": [
        "who =  \"He\"\n",
        "print(who,\"is good, All the time\")"
      ],
      "metadata": {
        "colab": {
          "base_uri": "https://localhost:8080/"
        },
        "id": "ACE7nJuH0vUd",
        "outputId": "d87dfd05-a9f6-4965-f299-8bd1b954a9d8"
      },
      "execution_count": 57,
      "outputs": [
        {
          "output_type": "stream",
          "name": "stdout",
          "text": [
            "He is good, All the time\n"
          ]
        }
      ]
    },
    {
      "cell_type": "code",
      "source": [
        "who =  \"He\"\n",
        "print(\"%s is good, All the time\" %who)"
      ],
      "metadata": {
        "colab": {
          "base_uri": "https://localhost:8080/"
        },
        "id": "59wSrd491FXu",
        "outputId": "f2d72292-57ab-4b06-bec5-97d5867aad5a"
      },
      "execution_count": 59,
      "outputs": [
        {
          "output_type": "stream",
          "name": "stdout",
          "text": [
            "He is good, All the time\n"
          ]
        }
      ]
    },
    {
      "cell_type": "code",
      "source": [
        "who =  \"He\"\n",
        "print(\"{} is good, All the time\".format(who))"
      ],
      "metadata": {
        "colab": {
          "base_uri": "https://localhost:8080/"
        },
        "id": "mcv7aMGX1bT_",
        "outputId": "5a497d20-53c0-4a29-a56f-098ed36b94af"
      },
      "execution_count": 62,
      "outputs": [
        {
          "output_type": "stream",
          "name": "stdout",
          "text": [
            "He is good, All the time\n"
          ]
        }
      ]
    },
    {
      "cell_type": "code",
      "source": [
        "who =  \"He\"\n",
        "print(f'{who} is good, All the time')"
      ],
      "metadata": {
        "colab": {
          "base_uri": "https://localhost:8080/"
        },
        "id": "qVXoTaA91oTD",
        "outputId": "764ad342-8666-4e6d-87a1-f919f9eaacec"
      },
      "execution_count": 64,
      "outputs": [
        {
          "output_type": "stream",
          "name": "stdout",
          "text": [
            "He is good, All the time\n"
          ]
        }
      ]
    },
    {
      "cell_type": "code",
      "source": [
        "name = \"Austin\"\n",
        "age = 20\n",
        "\n",
        "#방법 1 기본 출력\n",
        "print (\"안녕하세요. 나의 이름은 Austin이며 나이는 20살 입니다. \")\n",
        "\n",
        "#방법 2 % 포멧터 출력\n",
        "print (\"안녕하세요. 나의 이름은 %s이며 나이는 %s살 입니다. \" % (name, age))\n",
        "\n",
        "\n",
        "#방법 3 format 매서드 출력\n",
        "print (\"안녕하세요. 나의 이름은 {}이며 나이는 {}살 입니다. \".format(name, age))\n",
        "\n",
        "#방법 4\n",
        "print (f\"안녕하세요. 나의 이름은 {name}이며 나이는 {age}살 입니다. \")"
      ],
      "metadata": {
        "colab": {
          "base_uri": "https://localhost:8080/"
        },
        "id": "CY7lH5Ji2BnH",
        "outputId": "c03ac3e9-08f1-4149-89f1-3c6ce14706d7"
      },
      "execution_count": 85,
      "outputs": [
        {
          "output_type": "stream",
          "name": "stdout",
          "text": [
            "안녕하세요. 나의 이름은 Austin이며 나이는 20살 입니다. \n",
            "안녕하세요. 나의 이름은 Austin이며 나이는 20살 입니다. \n",
            "안녕하세요. 나의 이름은 Austin이며 나이는 20살 입니다. \n",
            "안녕하세요. 나의 이름은 Austin이며 나이는 20살 입니다. \n"
          ]
        }
      ]
    }
  ]
}